{
 "cells": [
  {
   "cell_type": "code",
   "execution_count": null,
   "metadata": {},
   "outputs": [],
   "source": [
    "pip install textblob"
   ]
  },
  {
   "cell_type": "code",
   "execution_count": 1,
   "metadata": {},
   "outputs": [],
   "source": [
    "from tkinter import *\n",
    "from tkinter import messagebox\n",
    "from textblob import TextBlob\n",
    "\n",
    "\n",
    "root=Tk()\n",
    "root.state('zoomed')\n",
    "root.configure(bg='powder blue')\n",
    "root.title('Translator')\n",
    "root.resizable(width=False,height=False)\n",
    "lbl_title=Label(root,text='English to French Translator',font=('',40,'bold'),bg='powder blue',fg='red')\n",
    "lbl_title.pack()\n",
    "\n",
    "\n",
    "def homescreen():\n",
    "    frm=Frame(root,bg='pink')\n",
    "    frm.place(x=0,y=100,relwidth=1,relheight=1)\n",
    "    \n",
    "    lbl_text=Label(frm,text='Text to Translate:',font=('',20,'bold'),bg='pink')\n",
    "    lbl_text.place(x=400,y=100)\n",
    "\n",
    "    entry_text=Entry(frm,font=('',15,'bold'))\n",
    "    entry_text.place(x=680,y=100)\n",
    "    entry_text.focus()\n",
    "\n",
    "    btn_translate=Button(frm,command=lambda:Translate(frm,entry_text),text='Translate',font=('',15,'bold'),bd=5,width=8)\n",
    "    btn_translate.place(x=600,y=220)\n",
    "\n",
    "    btn_reset=Button(frm,command=lambda:reset(entry_text),text='reset',font=('',15,'bold'),bd=5,width=8)\n",
    "    btn_reset.place(x=780,y=220)\n",
    "\n",
    "def reset(e1):\n",
    "    e1.delete(0,END)\n",
    "    e1.focus()\n",
    "\n",
    "def Translate(frm,e1):\n",
    "    u=e1.get()\n",
    "    if(len(u)==0):\n",
    "        messagebox.showwarning('Warning','Please enter the text ')\n",
    "    else:\n",
    "        text=TextBlob(u)\n",
    "        result=text.translate(from_lang='en',to='fr')\n",
    "        lbl=Label(frm,text=result,font=('',20,'bold'),bg='pink',fg='red')\n",
    "        lbl.place(x=550,y=150)    \n",
    "                                 \n",
    "homescreen()  \n",
    "root.mainloop()\n"
   ]
  },
  {
   "cell_type": "code",
   "execution_count": 2,
   "metadata": {},
   "outputs": [],
   "source": [
    "import pandas as pd"
   ]
  },
  {
   "cell_type": "code",
   "execution_count": null,
   "metadata": {},
   "outputs": [],
   "source": []
  }
 ],
 "metadata": {
  "kernelspec": {
   "display_name": "Python 3",
   "language": "python",
   "name": "python3"
  },
  "language_info": {
   "codemirror_mode": {
    "name": "ipython",
    "version": 3
   },
   "file_extension": ".py",
   "mimetype": "text/x-python",
   "name": "python",
   "nbconvert_exporter": "python",
   "pygments_lexer": "ipython3",
   "version": "3.7.6"
  }
 },
 "nbformat": 4,
 "nbformat_minor": 4
}
